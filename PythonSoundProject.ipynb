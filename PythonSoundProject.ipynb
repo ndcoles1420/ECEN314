{
  "nbformat": 4,
  "nbformat_minor": 0,
  "metadata": {
    "colab": {
      "provenance": [],
      "authorship_tag": "ABX9TyP1HNcE2UZIlMH11E2eS5+6",
      "include_colab_link": true
    },
    "kernelspec": {
      "name": "python3",
      "display_name": "Python 3"
    },
    "language_info": {
      "name": "python"
    }
  },
  "cells": [
    {
      "cell_type": "markdown",
      "metadata": {
        "id": "view-in-github",
        "colab_type": "text"
      },
      "source": [
        "<a href=\"https://colab.research.google.com/github/ndcoles1420/ECEN314/blob/main/PythonSoundProject.ipynb\" target=\"_parent\"><img src=\"https://colab.research.google.com/assets/colab-badge.svg\" alt=\"Open In Colab\"/></a>"
      ]
    },
    {
      "cell_type": "code",
      "source": [
        "#Import all necessary libraries\n",
        "%matplotlib inline\n",
        "import numpy as np\n",
        "import matplotlib.pyplot as plt\n",
        "import soundfile as sf\n",
        "import scipy.signal as sig"
      ],
      "metadata": {
        "id": "CMGfOUXGWEgN"
      },
      "execution_count": null,
      "outputs": []
    },
    {
      "cell_type": "code",
      "execution_count": null,
      "metadata": {
        "id": "G0Ji2hOVVRvT"
      },
      "outputs": [],
      "source": [
        "#Create a function for the multi-echo filter\n",
        "def multi_echo(x, sr, alpha, r, n):\n",
        "  t = np.arange(len(x)) / sr\n",
        "  y = []\n",
        "\n",
        "  for i in t:\n",
        "    ypoint = 0\n",
        "    for k in range(n):\n",
        "      ypoint = ypoint + (alpha**k)*(x.subs(i - k*r))\n",
        "    \n",
        "    y.append(ypoint)\n",
        "  \n",
        "  return y\n",
        "\n",
        "  "
      ]
    },
    {
      "cell_type": "code",
      "source": [
        "#Create a function for the feedback comb filter\n",
        "def feedback_comb(x, alpha, r):\n"
      ],
      "metadata": {
        "id": "kcGNnuVHVxdf"
      },
      "execution_count": null,
      "outputs": []
    },
    {
      "cell_type": "code",
      "source": [
        "#Get the dry signal\n",
        "x, sr = sf.read(\"discrete_systems_time_domain_dry_source.wav\")\n",
        "\n",
        "#Get time values\n",
        "t = np.arange(len(x)) / sr\n",
        "\n",
        "#Call functions\n",
        "ym = multi_echo(x, sr, alpha, r, n)\n",
        "yf = feedback_comb(x, sr, alpha, r)\n"
      ],
      "metadata": {
        "id": "Xu8yILXQZG_M"
      },
      "execution_count": null,
      "outputs": []
    }
  ]
}