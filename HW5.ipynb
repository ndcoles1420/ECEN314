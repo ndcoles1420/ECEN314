{
  "nbformat": 4,
  "nbformat_minor": 0,
  "metadata": {
    "colab": {
      "provenance": [],
      "authorship_tag": "ABX9TyN5sWGDgpApVSjVYmoB3Jpk",
      "include_colab_link": true
    },
    "kernelspec": {
      "name": "python3",
      "display_name": "Python 3"
    },
    "language_info": {
      "name": "python"
    }
  },
  "cells": [
    {
      "cell_type": "markdown",
      "metadata": {
        "id": "view-in-github",
        "colab_type": "text"
      },
      "source": [
        "<a href=\"https://colab.research.google.com/github/ndcoles1420/ECEN314/blob/main/HW5.ipynb\" target=\"_parent\"><img src=\"https://colab.research.google.com/assets/colab-badge.svg\" alt=\"Open In Colab\"/></a>"
      ]
    },
    {
      "cell_type": "code",
      "execution_count": 1,
      "metadata": {
        "colab": {
          "base_uri": "https://localhost:8080/",
          "height": 279
        },
        "id": "mYb8uFGO43p2",
        "outputId": "12d1fd57-3813-4716-ed1b-5d4f2c5a5a00"
      },
      "outputs": [
        {
          "output_type": "display_data",
          "data": {
            "text/plain": [
              "<Figure size 432x288 with 1 Axes>"
            ],
            "image/png": "[encoded data removed]"
          },
          "metadata": {
            "needs_background": "light"
          }
        }
      ],
      "source": [
        "import numpy as np\n",
        "import matplotlib.pyplot as plt\n",
        "\n",
        "# h[n] for multi echo filter\n",
        "# Enter values of h\n",
        "h = [1,0,0,0,0,0.5,0,0,0,0,0.25,0,0,0,0,0.125,0,0,0,0,0.0625]\n",
        "dh = [0,1,2,3,4,5,6,7,8,9,10,11,12,13,14,15,16,17,18,19,20] # duration of signal h\n",
        "plt.stem(dh, h, use_line_collection=True)\n",
        "plt.grid()\n",
        "plt.xlim(-5,25)\n",
        "plt.xlabel('$n$')\n",
        "plt.ylabel('$h[n]$');"
      ]
    },
    {
      "cell_type": "code",
      "source": [
        "h = [];\n",
        "dh = [];\n",
        "\n",
        "for n in range(41):\n",
        "  dh.append(n)\n",
        "  if (n%5 == 0):\n",
        "    h.append(0.5**(n/5));\n",
        "  else:\n",
        "    h.append(0);\n",
        "\n",
        "plt.stem(dh, h, use_line_collection=True)\n",
        "plt.grid()\n",
        "plt.xlim(-5,45)\n",
        "plt.xlabel('$n$')\n",
        "plt.ylabel('$h[n]$');"
      ],
      "metadata": {
        "colab": {
          "base_uri": "https://localhost:8080/",
          "height": 279
        },
        "id": "SrrGrDGbOrNG",
        "outputId": "4fd30a83-269d-41af-9093-e86307be2e1d"
      },
      "execution_count": 4,
      "outputs": [
        {
          "output_type": "display_data",
          "data": {
            "text/plain": [
              "<Figure size 432x288 with 1 Axes>"
            ],
            "image/png": "[encoded data removed]"
          },
          "metadata": {
            "needs_background": "light"
          }
        }
      ]
    }
  ]
}